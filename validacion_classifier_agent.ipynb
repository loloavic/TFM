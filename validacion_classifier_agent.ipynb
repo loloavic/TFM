{
 "cells": [
  {
   "cell_type": "markdown",
   "id": "9474d170",
   "metadata": {},
   "source": [
    "\n",
    "# Notebook de Validación — `ClassifierAgent`\n",
    "\n",
    "Este cuaderno valida el comportamiento del agente clasificador (`classifier_agent.py`) usando un conjunto de **prompts simulados**.\n"
   ]
  },
  {
   "cell_type": "markdown",
   "id": "384c0616",
   "metadata": {},
   "source": [
    "\n",
    "## 1) Requisitos previos\n",
    "\n",
    "- Tener instalado Python 3.10+\n",
    "- Instalar dependencias mínimas:\n",
    "\n",
    "```bash\n",
    "pip install langchain openai tiktoken\n",
    "```\n",
    "\n",
    "> Si vas a usar **OpenRouter**, exporta tu clave de API en el entorno:\n",
    "```bash\n",
    "export OPENROUTER_API_KEY=\"tu_api_key_aqui\"\n",
    "```\n"
   ]
  },
  {
   "cell_type": "code",
   "execution_count": 1,
   "id": "3bba96ba-5ee7-4f36-83bc-231ec8de5672",
   "metadata": {},
   "outputs": [],
   "source": [
    "!pip install -r requirements.txt -q"
   ]
  },
  {
   "cell_type": "code",
   "execution_count": 10,
   "id": "11308af4-c26f-4c64-9a5e-65cfaa7e0464",
   "metadata": {},
   "outputs": [
    {
     "name": "stdout",
     "output_type": "stream",
     "text": [
      "Collecting langchain\n",
      "  Using cached langchain-0.3.27-py3-none-any.whl.metadata (7.8 kB)\n",
      "Collecting langchain-openai\n",
      "  Downloading langchain_openai-0.3.30-py3-none-any.whl.metadata (2.4 kB)\n",
      "Collecting langchain-community\n",
      "  Downloading langchain_community-0.3.27-py3-none-any.whl.metadata (2.9 kB)\n",
      "Collecting tiktoken\n",
      "  Downloading tiktoken-0.11.0-cp312-cp312-win_amd64.whl.metadata (6.9 kB)\n",
      "Requirement already satisfied: pandas in c:\\users\\loloa\\anaconda3\\lib\\site-packages (2.2.2)\n",
      "Collecting pandas\n",
      "  Downloading pandas-2.3.1-cp312-cp312-win_amd64.whl.metadata (19 kB)\n",
      "Collecting langchain-core<1.0.0,>=0.3.72 (from langchain)\n",
      "  Using cached langchain_core-0.3.74-py3-none-any.whl.metadata (5.8 kB)\n",
      "Collecting langchain-text-splitters<1.0.0,>=0.3.9 (from langchain)\n",
      "  Using cached langchain_text_splitters-0.3.9-py3-none-any.whl.metadata (1.9 kB)\n",
      "Collecting langsmith>=0.1.17 (from langchain)\n",
      "  Using cached langsmith-0.4.15-py3-none-any.whl.metadata (14 kB)\n",
      "Requirement already satisfied: pydantic<3.0.0,>=2.7.4 in c:\\users\\loloa\\anaconda3\\lib\\site-packages (from langchain) (2.10.3)\n",
      "Requirement already satisfied: SQLAlchemy<3,>=1.4 in c:\\users\\loloa\\anaconda3\\lib\\site-packages (from langchain) (2.0.30)\n",
      "Requirement already satisfied: requests<3,>=2 in c:\\users\\loloa\\anaconda3\\lib\\site-packages (from langchain) (2.32.2)\n",
      "Requirement already satisfied: PyYAML>=5.3 in c:\\users\\loloa\\anaconda3\\lib\\site-packages (from langchain) (6.0.1)\n",
      "Collecting openai<2.0.0,>=1.99.9 (from langchain-openai)\n",
      "  Using cached openai-1.100.2-py3-none-any.whl.metadata (29 kB)\n",
      "Requirement already satisfied: aiohttp<4.0.0,>=3.8.3 in c:\\users\\loloa\\anaconda3\\lib\\site-packages (from langchain-community) (3.9.5)\n",
      "Requirement already satisfied: tenacity!=8.4.0,<10,>=8.1.0 in c:\\users\\loloa\\anaconda3\\lib\\site-packages (from langchain-community) (8.2.2)\n",
      "Collecting dataclasses-json<0.7,>=0.5.7 (from langchain-community)\n",
      "  Using cached dataclasses_json-0.6.7-py3-none-any.whl.metadata (25 kB)\n",
      "Requirement already satisfied: pydantic-settings<3.0.0,>=2.4.0 in c:\\users\\loloa\\anaconda3\\lib\\site-packages (from langchain-community) (2.6.1)\n",
      "Collecting httpx-sse<1.0.0,>=0.4.0 (from langchain-community)\n",
      "  Downloading httpx_sse-0.4.1-py3-none-any.whl.metadata (9.4 kB)\n",
      "Requirement already satisfied: numpy>=1.26.2 in c:\\users\\loloa\\anaconda3\\lib\\site-packages (from langchain-community) (1.26.4)\n",
      "Requirement already satisfied: regex>=2022.1.18 in c:\\users\\loloa\\anaconda3\\lib\\site-packages (from tiktoken) (2023.10.3)\n",
      "Requirement already satisfied: python-dateutil>=2.8.2 in c:\\users\\loloa\\anaconda3\\lib\\site-packages (from pandas) (2.9.0.post0)\n",
      "Requirement already satisfied: pytz>=2020.1 in c:\\users\\loloa\\anaconda3\\lib\\site-packages (from pandas) (2024.1)\n",
      "Requirement already satisfied: tzdata>=2022.7 in c:\\users\\loloa\\anaconda3\\lib\\site-packages (from pandas) (2023.3)\n",
      "Requirement already satisfied: aiosignal>=1.1.2 in c:\\users\\loloa\\anaconda3\\lib\\site-packages (from aiohttp<4.0.0,>=3.8.3->langchain-community) (1.2.0)\n",
      "Requirement already satisfied: attrs>=17.3.0 in c:\\users\\loloa\\anaconda3\\lib\\site-packages (from aiohttp<4.0.0,>=3.8.3->langchain-community) (23.1.0)\n",
      "Requirement already satisfied: frozenlist>=1.1.1 in c:\\users\\loloa\\anaconda3\\lib\\site-packages (from aiohttp<4.0.0,>=3.8.3->langchain-community) (1.4.0)\n",
      "Requirement already satisfied: multidict<7.0,>=4.5 in c:\\users\\loloa\\anaconda3\\lib\\site-packages (from aiohttp<4.0.0,>=3.8.3->langchain-community) (6.0.4)\n",
      "Requirement already satisfied: yarl<2.0,>=1.0 in c:\\users\\loloa\\anaconda3\\lib\\site-packages (from aiohttp<4.0.0,>=3.8.3->langchain-community) (1.9.3)\n",
      "Collecting marshmallow<4.0.0,>=3.18.0 (from dataclasses-json<0.7,>=0.5.7->langchain-community)\n",
      "  Using cached marshmallow-3.26.1-py3-none-any.whl.metadata (7.3 kB)\n",
      "Collecting typing-inspect<1,>=0.4.0 (from dataclasses-json<0.7,>=0.5.7->langchain-community)\n",
      "  Using cached typing_inspect-0.9.0-py3-none-any.whl.metadata (1.5 kB)\n",
      "Requirement already satisfied: jsonpatch<2.0,>=1.33 in c:\\users\\loloa\\anaconda3\\lib\\site-packages (from langchain-core<1.0.0,>=0.3.72->langchain) (1.33)\n",
      "Requirement already satisfied: typing-extensions>=4.7 in c:\\users\\loloa\\anaconda3\\lib\\site-packages (from langchain-core<1.0.0,>=0.3.72->langchain) (4.12.2)\n",
      "Requirement already satisfied: packaging>=23.2 in c:\\users\\loloa\\anaconda3\\lib\\site-packages (from langchain-core<1.0.0,>=0.3.72->langchain) (23.2)\n",
      "Requirement already satisfied: httpx<1,>=0.23.0 in c:\\users\\loloa\\anaconda3\\lib\\site-packages (from langsmith>=0.1.17->langchain) (0.27.0)\n",
      "Collecting orjson>=3.9.14 (from langsmith>=0.1.17->langchain)\n",
      "  Downloading orjson-3.11.2-cp312-cp312-win_amd64.whl.metadata (1.2 kB)\n",
      "Requirement already satisfied: requests-toolbelt>=1.0.0 in c:\\users\\loloa\\anaconda3\\lib\\site-packages (from langsmith>=0.1.17->langchain) (1.0.0)\n",
      "Collecting zstandard>=0.23.0 (from langsmith>=0.1.17->langchain)\n",
      "  Downloading zstandard-0.24.0-cp312-cp312-win_amd64.whl.metadata (3.2 kB)\n",
      "Requirement already satisfied: anyio<5,>=3.5.0 in c:\\users\\loloa\\anaconda3\\lib\\site-packages (from openai<2.0.0,>=1.99.9->langchain-openai) (4.2.0)\n",
      "Requirement already satisfied: distro<2,>=1.7.0 in c:\\users\\loloa\\anaconda3\\lib\\site-packages (from openai<2.0.0,>=1.99.9->langchain-openai) (1.9.0)\n",
      "Collecting jiter<1,>=0.4.0 (from openai<2.0.0,>=1.99.9->langchain-openai)\n",
      "  Downloading jiter-0.10.0-cp312-cp312-win_amd64.whl.metadata (5.3 kB)\n",
      "Requirement already satisfied: sniffio in c:\\users\\loloa\\anaconda3\\lib\\site-packages (from openai<2.0.0,>=1.99.9->langchain-openai) (1.3.0)\n",
      "Requirement already satisfied: tqdm>4 in c:\\users\\loloa\\anaconda3\\lib\\site-packages (from openai<2.0.0,>=1.99.9->langchain-openai) (4.66.4)\n",
      "Requirement already satisfied: annotated-types>=0.6.0 in c:\\users\\loloa\\anaconda3\\lib\\site-packages (from pydantic<3.0.0,>=2.7.4->langchain) (0.6.0)\n",
      "Requirement already satisfied: pydantic-core==2.27.1 in c:\\users\\loloa\\anaconda3\\lib\\site-packages (from pydantic<3.0.0,>=2.7.4->langchain) (2.27.1)\n",
      "Requirement already satisfied: python-dotenv>=0.21.0 in c:\\users\\loloa\\anaconda3\\lib\\site-packages (from pydantic-settings<3.0.0,>=2.4.0->langchain-community) (0.21.0)\n",
      "Requirement already satisfied: six>=1.5 in c:\\users\\loloa\\anaconda3\\lib\\site-packages (from python-dateutil>=2.8.2->pandas) (1.16.0)\n",
      "Requirement already satisfied: charset-normalizer<4,>=2 in c:\\users\\loloa\\anaconda3\\lib\\site-packages (from requests<3,>=2->langchain) (2.0.4)\n",
      "Requirement already satisfied: idna<4,>=2.5 in c:\\users\\loloa\\anaconda3\\lib\\site-packages (from requests<3,>=2->langchain) (3.7)\n",
      "Requirement already satisfied: urllib3<3,>=1.21.1 in c:\\users\\loloa\\anaconda3\\lib\\site-packages (from requests<3,>=2->langchain) (2.2.2)\n",
      "Requirement already satisfied: certifi>=2017.4.17 in c:\\users\\loloa\\anaconda3\\lib\\site-packages (from requests<3,>=2->langchain) (2025.7.14)\n",
      "Requirement already satisfied: greenlet!=0.4.17 in c:\\users\\loloa\\anaconda3\\lib\\site-packages (from SQLAlchemy<3,>=1.4->langchain) (3.0.1)\n",
      "Requirement already satisfied: httpcore==1.* in c:\\users\\loloa\\anaconda3\\lib\\site-packages (from httpx<1,>=0.23.0->langsmith>=0.1.17->langchain) (1.0.2)\n",
      "Requirement already satisfied: h11<0.15,>=0.13 in c:\\users\\loloa\\anaconda3\\lib\\site-packages (from httpcore==1.*->httpx<1,>=0.23.0->langsmith>=0.1.17->langchain) (0.14.0)\n",
      "Requirement already satisfied: jsonpointer>=1.9 in c:\\users\\loloa\\anaconda3\\lib\\site-packages (from jsonpatch<2.0,>=1.33->langchain-core<1.0.0,>=0.3.72->langchain) (2.1)\n",
      "Requirement already satisfied: colorama in c:\\users\\loloa\\anaconda3\\lib\\site-packages (from tqdm>4->openai<2.0.0,>=1.99.9->langchain-openai) (0.4.6)\n",
      "Requirement already satisfied: mypy-extensions>=0.3.0 in c:\\users\\loloa\\anaconda3\\lib\\site-packages (from typing-inspect<1,>=0.4.0->dataclasses-json<0.7,>=0.5.7->langchain-community) (1.0.0)\n",
      "Using cached langchain-0.3.27-py3-none-any.whl (1.0 MB)\n",
      "Downloading langchain_openai-0.3.30-py3-none-any.whl (74 kB)\n",
      "   ---------------------------------------- 0.0/74.4 kB ? eta -:--:--\n",
      "   ---------------------------------------- 74.4/74.4 kB 2.1 MB/s eta 0:00:00\n",
      "Downloading langchain_community-0.3.27-py3-none-any.whl (2.5 MB)\n",
      "   ---------------------------------------- 0.0/2.5 MB ? eta -:--:--\n",
      "   ------- -------------------------------- 0.5/2.5 MB 9.6 MB/s eta 0:00:01\n",
      "   ------------------ --------------------- 1.2/2.5 MB 10.6 MB/s eta 0:00:01\n",
      "   ---------------------------- ----------- 1.8/2.5 MB 11.3 MB/s eta 0:00:01\n",
      "   ---------------------------------------  2.5/2.5 MB 13.4 MB/s eta 0:00:01\n",
      "   ---------------------------------------- 2.5/2.5 MB 11.5 MB/s eta 0:00:00\n",
      "Downloading tiktoken-0.11.0-cp312-cp312-win_amd64.whl (884 kB)\n",
      "   ---------------------------------------- 0.0/884.3 kB ? eta -:--:--\n",
      "   --------------------------------------  880.6/884.3 kB 27.2 MB/s eta 0:00:01\n",
      "   --------------------------------------- 884.3/884.3 kB 13.9 MB/s eta 0:00:00\n",
      "Downloading pandas-2.3.1-cp312-cp312-win_amd64.whl (11.0 MB)\n",
      "   ---------------------------------------- 0.0/11.0 MB ? eta -:--:--\n",
      "   ---- ----------------------------------- 1.2/11.0 MB 24.8 MB/s eta 0:00:01\n",
      "   ------- -------------------------------- 2.1/11.0 MB 27.2 MB/s eta 0:00:01\n",
      "   ----------- ---------------------------- 3.2/11.0 MB 29.6 MB/s eta 0:00:01\n",
      "   ----------------- ---------------------- 4.7/11.0 MB 27.3 MB/s eta 0:00:01\n",
      "   -------------------- ------------------- 5.7/11.0 MB 25.8 MB/s eta 0:00:01\n",
      "   ------------------------ --------------- 6.7/11.0 MB 25.3 MB/s eta 0:00:01\n",
      "   --------------------------- ------------ 7.7/11.0 MB 24.4 MB/s eta 0:00:01\n",
      "   -------------------------------- ------- 8.9/11.0 MB 24.9 MB/s eta 0:00:01\n",
      "   ------------------------------------ --- 10.1/11.0 MB 25.8 MB/s eta 0:00:01\n",
      "   ---------------------------------------  11.0/11.0 MB 25.2 MB/s eta 0:00:01\n",
      "   ---------------------------------------- 11.0/11.0 MB 21.1 MB/s eta 0:00:00\n",
      "Using cached dataclasses_json-0.6.7-py3-none-any.whl (28 kB)\n",
      "Downloading httpx_sse-0.4.1-py3-none-any.whl (8.1 kB)\n",
      "Using cached langchain_core-0.3.74-py3-none-any.whl (443 kB)\n",
      "Using cached langchain_text_splitters-0.3.9-py3-none-any.whl (33 kB)\n",
      "Using cached langsmith-0.4.15-py3-none-any.whl (375 kB)\n",
      "Using cached openai-1.100.2-py3-none-any.whl (787 kB)\n",
      "Downloading jiter-0.10.0-cp312-cp312-win_amd64.whl (206 kB)\n",
      "   ---------------------------------------- 0.0/206.2 kB ? eta -:--:--\n",
      "   ---------------------------------------- 206.2/206.2 kB 6.3 MB/s eta 0:00:00\n",
      "Using cached marshmallow-3.26.1-py3-none-any.whl (50 kB)\n",
      "Downloading orjson-3.11.2-cp312-cp312-win_amd64.whl (119 kB)\n",
      "   ---------------------------------------- 0.0/119.6 kB ? eta -:--:--\n",
      "   ---------------------------------------- 119.6/119.6 kB 3.4 MB/s eta 0:00:00\n",
      "Using cached typing_inspect-0.9.0-py3-none-any.whl (8.8 kB)\n",
      "Downloading zstandard-0.24.0-cp312-cp312-win_amd64.whl (505 kB)\n",
      "   ---------------------------------------- 0.0/505.2 kB ? eta -:--:--\n",
      "   --------------------------------------- 505.2/505.2 kB 16.0 MB/s eta 0:00:00\n",
      "Installing collected packages: zstandard, typing-inspect, orjson, marshmallow, jiter, httpx-sse, tiktoken, pandas, dataclasses-json, openai, langsmith, langchain-core, langchain-text-splitters, langchain-openai, langchain, langchain-community\n",
      "  Attempting uninstall: zstandard\n",
      "    Found existing installation: zstandard 0.22.0\n",
      "    Uninstalling zstandard-0.22.0:\n",
      "      Successfully uninstalled zstandard-0.22.0\n",
      "  Attempting uninstall: pandas\n",
      "    Found existing installation: pandas 2.2.2\n",
      "    Uninstalling pandas-2.2.2:\n",
      "      Successfully uninstalled pandas-2.2.2\n",
      "Successfully installed dataclasses-json-0.6.7 httpx-sse-0.4.1 jiter-0.10.0 langchain-0.3.27 langchain-community-0.3.27 langchain-core-0.3.74 langchain-openai-0.3.30 langchain-text-splitters-0.3.9 langsmith-0.4.15 marshmallow-3.26.1 openai-1.100.2 orjson-3.11.2 pandas-2.3.1 tiktoken-0.11.0 typing-inspect-0.9.0 zstandard-0.24.0\n",
      "Note: you may need to restart the kernel to use updated packages.\n"
     ]
    },
    {
     "name": "stderr",
     "output_type": "stream",
     "text": [
      "  WARNING: Failed to remove contents in a temporary directory 'C:\\Users\\loloa\\anaconda3\\Lib\\site-packages\\~standard'.\n",
      "  You can safely remove it manually.\n",
      "  WARNING: Failed to remove contents in a temporary directory 'C:\\Users\\loloa\\anaconda3\\Lib\\site-packages\\~andas'.\n",
      "  You can safely remove it manually.\n"
     ]
    }
   ],
   "source": [
    "%pip install -U langchain langchain-openai langchain-community tiktoken pandas"
   ]
  },
  {
   "cell_type": "code",
   "execution_count": 9,
   "id": "5cff1dd4-e56a-436c-8653-768977ffbfb4",
   "metadata": {},
   "outputs": [
    {
     "name": "stdout",
     "output_type": "stream",
     "text": [
      "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\n"
     ]
    }
   ],
   "source": [
    "import os\n",
    "print(os.getenv(\"OPENROUTER_API_KEY\"))"
   ]
  },
  {
   "cell_type": "code",
   "execution_count": 10,
   "id": "e471d9b8",
   "metadata": {},
   "outputs": [
    {
     "name": "stdout",
     "output_type": "stream",
     "text": [
      "Python: 3.10.18 | packaged by Anaconda, Inc. | (main, Jun  5 2025, 13:08:55) [MSC v.1929 64 bit (AMD64)]\n",
      "Existe prompts_simulados.csv: True\n",
      "Existe classifier_agent.py: True\n"
     ]
    }
   ],
   "source": [
    "\n",
    "import os\n",
    "import pandas as pd\n",
    "from pathlib import Path\n",
    "\n",
    "# Mostrar versiones útiles\n",
    "import sys\n",
    "print(\"Python:\", sys.version)\n",
    "\n",
    "# Comprobar que existen los archivos necesarios\n",
    "base = Path('.')\n",
    "csv_path = Path('data/prompts_simulados.csv')\n",
    "agent_path = Path('agents/classifier_agent.py')\n",
    "\n",
    "print(\"Existe prompts_simulados.csv:\", csv_path.exists())\n",
    "print(\"Existe classifier_agent.py:\", agent_path.exists())\n"
   ]
  },
  {
   "cell_type": "code",
   "execution_count": 11,
   "id": "ac74380f",
   "metadata": {},
   "outputs": [
    {
     "data": {
      "text/plain": [
       "'4. Cambio de comunidad por motivos generales'"
      ]
     },
     "execution_count": 11,
     "metadata": {},
     "output_type": "execute_result"
    }
   ],
   "source": [
    "import importlib.util, sys\n",
    "from pathlib import Path\n",
    "\n",
    "agent_path = Path(\"agents/classifier_agent.py\")  # ajusta la ruta si está en /agents\n",
    "spec = importlib.util.spec_from_file_location(\"classifier_agent\", str(agent_path))\n",
    "mod = importlib.util.module_from_spec(spec)\n",
    "spec.loader.exec_module(mod)\n",
    "ClassifierAgent = mod.ClassifierAgent\n",
    "\n",
    "agent = ClassifierAgent()\n",
    "agent.classify(\"Me voy a mudar porque no soporto esta ciudad\")\n"
   ]
  },
  {
   "cell_type": "markdown",
   "id": "14fbdc61",
   "metadata": {},
   "source": [
    "\n",
    "## 2) Instanciar el agente\n",
    "\n",
    "Por defecto usaremos un modelo compatible con OpenRouter. Puedes ajustar el `model_name` si lo deseas.\n"
   ]
  },
  {
   "cell_type": "code",
   "execution_count": 12,
   "id": "8c25a4aa",
   "metadata": {},
   "outputs": [
    {
     "data": {
      "text/plain": [
       "<classifier_agent.ClassifierAgent at 0x17bd4cb0ca0>"
      ]
     },
     "execution_count": 12,
     "metadata": {},
     "output_type": "execute_result"
    }
   ],
   "source": [
    "\n",
    "# Comprueba que tu variable OPENROUTER_API_KEY está configurada\n",
    "if not os.getenv(\"OPENROUTER_API_KEY\"):\n",
    "    print(\"⚠️  No se encontró la variable de entorno OPENROUTER_API_KEY. \"\n",
    "          \"Configúrala si vas a usar OpenRouter.\")\n",
    "    \n",
    "agent = ClassifierAgent(model_name=\"gpt-3.5-turbo\", temperature=0.1)\n",
    "agent\n"
   ]
  },
  {
   "cell_type": "markdown",
   "id": "823f6118",
   "metadata": {},
   "source": [
    "\n",
    "## 3) Cargar dataset de prompts simulados\n"
   ]
  },
  {
   "cell_type": "code",
   "execution_count": 13,
   "id": "91a5674b",
   "metadata": {},
   "outputs": [
    {
     "data": {
      "text/html": [
       "<div>\n",
       "<style scoped>\n",
       "    .dataframe tbody tr th:only-of-type {\n",
       "        vertical-align: middle;\n",
       "    }\n",
       "\n",
       "    .dataframe tbody tr th {\n",
       "        vertical-align: top;\n",
       "    }\n",
       "\n",
       "    .dataframe thead th {\n",
       "        text-align: right;\n",
       "    }\n",
       "</style>\n",
       "<table border=\"1\" class=\"dataframe\">\n",
       "  <thead>\n",
       "    <tr style=\"text-align: right;\">\n",
       "      <th></th>\n",
       "      <th>prompt</th>\n",
       "      <th>categoria_esperada</th>\n",
       "    </tr>\n",
       "  </thead>\n",
       "  <tbody>\n",
       "    <tr>\n",
       "      <th>0</th>\n",
       "      <td>Me mudo de Sevilla a Zaragoza con mis hijos, ¿...</td>\n",
       "      <td>Mudanza con hijos</td>\n",
       "    </tr>\n",
       "    <tr>\n",
       "      <th>1</th>\n",
       "      <td>Voy a cambiar mi residencia por trabajo, sin h...</td>\n",
       "      <td>Cambio de comunidad por trabajo</td>\n",
       "    </tr>\n",
       "    <tr>\n",
       "      <th>2</th>\n",
       "      <td>He decidido mudarme a otra comunidad, pero no ...</td>\n",
       "      <td>Mudanza sin hijos</td>\n",
       "    </tr>\n",
       "    <tr>\n",
       "      <th>3</th>\n",
       "      <td>Después de jubilarme, me traslado al norte. ¿Q...</td>\n",
       "      <td>Otro</td>\n",
       "    </tr>\n",
       "    <tr>\n",
       "      <th>4</th>\n",
       "      <td>Nos mudamos toda la familia a Galicia. Necesit...</td>\n",
       "      <td>Mudanza con hijos</td>\n",
       "    </tr>\n",
       "  </tbody>\n",
       "</table>\n",
       "</div>"
      ],
      "text/plain": [
       "                                              prompt  \\\n",
       "0  Me mudo de Sevilla a Zaragoza con mis hijos, ¿...   \n",
       "1  Voy a cambiar mi residencia por trabajo, sin h...   \n",
       "2  He decidido mudarme a otra comunidad, pero no ...   \n",
       "3  Después de jubilarme, me traslado al norte. ¿Q...   \n",
       "4  Nos mudamos toda la familia a Galicia. Necesit...   \n",
       "\n",
       "                categoria_esperada  \n",
       "0                Mudanza con hijos  \n",
       "1  Cambio de comunidad por trabajo  \n",
       "2                Mudanza sin hijos  \n",
       "3                             Otro  \n",
       "4                Mudanza con hijos  "
      ]
     },
     "execution_count": 13,
     "metadata": {},
     "output_type": "execute_result"
    }
   ],
   "source": [
    "\n",
    "df = pd.read_csv(csv_path)\n",
    "df.head()\n"
   ]
  },
  {
   "cell_type": "markdown",
   "id": "aaf33eff",
   "metadata": {},
   "source": [
    "\n",
    "## 4) Ejecutar clasificación y evaluar resultados\n",
    "\n",
    "- Se ejecuta `agent.classify()` sobre cada prompt.\n",
    "- Se compara la categoría devuelta por el modelo contra `categoria_esperada`.\n",
    "- Se calcula una métrica simple de **accuracy** y una **tabla de confusión**.\n"
   ]
  },
  {
   "cell_type": "code",
   "execution_count": 14,
   "id": "2ed89733",
   "metadata": {},
   "outputs": [
    {
     "name": "stdout",
     "output_type": "stream",
     "text": [
      "Accuracy simple: 75.00%\n"
     ]
    },
    {
     "data": {
      "text/html": [
       "<div>\n",
       "<style scoped>\n",
       "    .dataframe tbody tr th:only-of-type {\n",
       "        vertical-align: middle;\n",
       "    }\n",
       "\n",
       "    .dataframe tbody tr th {\n",
       "        vertical-align: top;\n",
       "    }\n",
       "\n",
       "    .dataframe thead th {\n",
       "        text-align: right;\n",
       "    }\n",
       "</style>\n",
       "<table border=\"1\" class=\"dataframe\">\n",
       "  <thead>\n",
       "    <tr style=\"text-align: right;\">\n",
       "      <th></th>\n",
       "      <th>prompt</th>\n",
       "      <th>categoria_esperada</th>\n",
       "      <th>pred_raw</th>\n",
       "      <th>pred</th>\n",
       "    </tr>\n",
       "  </thead>\n",
       "  <tbody>\n",
       "    <tr>\n",
       "      <th>0</th>\n",
       "      <td>Me mudo de Sevilla a Zaragoza con mis hijos, ¿...</td>\n",
       "      <td>Mudanza con hijos</td>\n",
       "      <td>1. Mudanza con hijos</td>\n",
       "      <td>mudanza con hijos</td>\n",
       "    </tr>\n",
       "    <tr>\n",
       "      <th>1</th>\n",
       "      <td>Voy a cambiar mi residencia por trabajo, sin h...</td>\n",
       "      <td>Cambio de comunidad por trabajo</td>\n",
       "      <td>Cambio de comunidad por trabajo</td>\n",
       "      <td>cambio de comunidad por trabajo</td>\n",
       "    </tr>\n",
       "    <tr>\n",
       "      <th>2</th>\n",
       "      <td>He decidido mudarme a otra comunidad, pero no ...</td>\n",
       "      <td>Mudanza sin hijos</td>\n",
       "      <td>Mudanza sin hijos</td>\n",
       "      <td>mudanza con hijos</td>\n",
       "    </tr>\n",
       "    <tr>\n",
       "      <th>3</th>\n",
       "      <td>Después de jubilarme, me traslado al norte. ¿Q...</td>\n",
       "      <td>Otro</td>\n",
       "      <td>Cambio de comunidad por motivos generales</td>\n",
       "      <td>otro</td>\n",
       "    </tr>\n",
       "    <tr>\n",
       "      <th>4</th>\n",
       "      <td>Nos mudamos toda la familia a Galicia. Necesit...</td>\n",
       "      <td>Mudanza con hijos</td>\n",
       "      <td>1. Mudanza con hijos</td>\n",
       "      <td>mudanza con hijos</td>\n",
       "    </tr>\n",
       "    <tr>\n",
       "      <th>5</th>\n",
       "      <td>Cambio de comunidad por una nueva oferta laboral.</td>\n",
       "      <td>Cambio de comunidad por trabajo</td>\n",
       "      <td>Cambio de comunidad por trabajo</td>\n",
       "      <td>cambio de comunidad por trabajo</td>\n",
       "    </tr>\n",
       "    <tr>\n",
       "      <th>6</th>\n",
       "      <td>Me traslado solo por motivos personales.</td>\n",
       "      <td>Mudanza sin hijos</td>\n",
       "      <td>Cambio de comunidad por motivos generales</td>\n",
       "      <td>otro</td>\n",
       "    </tr>\n",
       "    <tr>\n",
       "      <th>7</th>\n",
       "      <td>Mudanza con hijos en edad escolar. Necesito sa...</td>\n",
       "      <td>Mudanza con hijos</td>\n",
       "      <td>1. Mudanza con hijos</td>\n",
       "      <td>mudanza con hijos</td>\n",
       "    </tr>\n",
       "  </tbody>\n",
       "</table>\n",
       "</div>"
      ],
      "text/plain": [
       "                                              prompt  \\\n",
       "0  Me mudo de Sevilla a Zaragoza con mis hijos, ¿...   \n",
       "1  Voy a cambiar mi residencia por trabajo, sin h...   \n",
       "2  He decidido mudarme a otra comunidad, pero no ...   \n",
       "3  Después de jubilarme, me traslado al norte. ¿Q...   \n",
       "4  Nos mudamos toda la familia a Galicia. Necesit...   \n",
       "5  Cambio de comunidad por una nueva oferta laboral.   \n",
       "6           Me traslado solo por motivos personales.   \n",
       "7  Mudanza con hijos en edad escolar. Necesito sa...   \n",
       "\n",
       "                categoria_esperada                                   pred_raw  \\\n",
       "0                Mudanza con hijos                       1. Mudanza con hijos   \n",
       "1  Cambio de comunidad por trabajo            Cambio de comunidad por trabajo   \n",
       "2                Mudanza sin hijos                          Mudanza sin hijos   \n",
       "3                             Otro  Cambio de comunidad por motivos generales   \n",
       "4                Mudanza con hijos                       1. Mudanza con hijos   \n",
       "5  Cambio de comunidad por trabajo            Cambio de comunidad por trabajo   \n",
       "6                Mudanza sin hijos  Cambio de comunidad por motivos generales   \n",
       "7                Mudanza con hijos                       1. Mudanza con hijos   \n",
       "\n",
       "                              pred  \n",
       "0                mudanza con hijos  \n",
       "1  cambio de comunidad por trabajo  \n",
       "2                mudanza con hijos  \n",
       "3                             otro  \n",
       "4                mudanza con hijos  \n",
       "5  cambio de comunidad por trabajo  \n",
       "6                             otro  \n",
       "7                mudanza con hijos  "
      ]
     },
     "execution_count": 14,
     "metadata": {},
     "output_type": "execute_result"
    }
   ],
   "source": [
    "\n",
    "import re\n",
    "\n",
    "def normalize(label: str) -> str:\n",
    "    if not isinstance(label, str):\n",
    "        return \"otro\"\n",
    "    s = label.strip().lower()\n",
    "    # Normalizaciones básicas por si el modelo devuelve variaciones\n",
    "    if \"hijo\" in s:\n",
    "        return \"mudanza con hijos\"\n",
    "    if (\"trabajo\" in s) or (\"labor\" in s):\n",
    "        return \"cambio de comunidad por trabajo\"\n",
    "    if (\"sin hijo\" in s) or (\"solo\" in s) or (\"personal\" in s):\n",
    "        return \"mudanza sin hijos\"\n",
    "    if s in {\"1\", \"mudanza con hijos\"}:\n",
    "        return \"mudanza con hijos\"\n",
    "    if s in {\"2\", \"mudanza sin hijos\"}:\n",
    "        return \"mudanza sin hijos\"\n",
    "    if s in {\"3\", \"cambio de comunidad por trabajo\"}:\n",
    "        return \"cambio de comunidad por trabajo\"\n",
    "    return \"otro\"\n",
    "\n",
    "preds = []\n",
    "for i, row in df.iterrows():\n",
    "    text = row[\"prompt\"]\n",
    "    try:\n",
    "        y = agent.classify(text)\n",
    "    except Exception as e:\n",
    "        print(f\"Error clasificando fila {i}: {e}\")\n",
    "        y = \"error\"\n",
    "    preds.append(y)\n",
    "\n",
    "df[\"pred_raw\"] = preds\n",
    "df[\"pred\"] = df[\"pred_raw\"].apply(normalize)\n",
    "df[\"esperada_norm\"] = df[\"categoria_esperada\"].apply(lambda x: x.strip().lower())\n",
    "\n",
    "acc = (df[\"pred\"] == df[\"esperada_norm\"]).mean()\n",
    "print(f\"Accuracy simple: {acc:.2%}\")\n",
    "df[[\"prompt\",\"categoria_esperada\",\"pred_raw\",\"pred\"]]\n"
   ]
  },
  {
   "cell_type": "code",
   "execution_count": 15,
   "id": "a8633492",
   "metadata": {},
   "outputs": [
    {
     "data": {
      "text/html": [
       "<div>\n",
       "<style scoped>\n",
       "    .dataframe tbody tr th:only-of-type {\n",
       "        vertical-align: middle;\n",
       "    }\n",
       "\n",
       "    .dataframe tbody tr th {\n",
       "        vertical-align: top;\n",
       "    }\n",
       "\n",
       "    .dataframe thead th {\n",
       "        text-align: right;\n",
       "    }\n",
       "</style>\n",
       "<table border=\"1\" class=\"dataframe\">\n",
       "  <thead>\n",
       "    <tr style=\"text-align: right;\">\n",
       "      <th>Predicha</th>\n",
       "      <th>cambio de comunidad por trabajo</th>\n",
       "      <th>mudanza con hijos</th>\n",
       "      <th>otro</th>\n",
       "    </tr>\n",
       "    <tr>\n",
       "      <th>Esperada</th>\n",
       "      <th></th>\n",
       "      <th></th>\n",
       "      <th></th>\n",
       "    </tr>\n",
       "  </thead>\n",
       "  <tbody>\n",
       "    <tr>\n",
       "      <th>cambio de comunidad por trabajo</th>\n",
       "      <td>2</td>\n",
       "      <td>0</td>\n",
       "      <td>0</td>\n",
       "    </tr>\n",
       "    <tr>\n",
       "      <th>mudanza con hijos</th>\n",
       "      <td>0</td>\n",
       "      <td>3</td>\n",
       "      <td>0</td>\n",
       "    </tr>\n",
       "    <tr>\n",
       "      <th>mudanza sin hijos</th>\n",
       "      <td>0</td>\n",
       "      <td>1</td>\n",
       "      <td>1</td>\n",
       "    </tr>\n",
       "    <tr>\n",
       "      <th>otro</th>\n",
       "      <td>0</td>\n",
       "      <td>0</td>\n",
       "      <td>1</td>\n",
       "    </tr>\n",
       "  </tbody>\n",
       "</table>\n",
       "</div>"
      ],
      "text/plain": [
       "Predicha                         cambio de comunidad por trabajo  \\\n",
       "Esperada                                                           \n",
       "cambio de comunidad por trabajo                                2   \n",
       "mudanza con hijos                                              0   \n",
       "mudanza sin hijos                                              0   \n",
       "otro                                                           0   \n",
       "\n",
       "Predicha                         mudanza con hijos  otro  \n",
       "Esperada                                                  \n",
       "cambio de comunidad por trabajo                  0     0  \n",
       "mudanza con hijos                                3     0  \n",
       "mudanza sin hijos                                1     1  \n",
       "otro                                             0     1  "
      ]
     },
     "execution_count": 15,
     "metadata": {},
     "output_type": "execute_result"
    }
   ],
   "source": [
    "\n",
    "cm = pd.crosstab(df[\"esperada_norm\"], df[\"pred\"], rownames=[\"Esperada\"], colnames=[\"Predicha\"], dropna=False)\n",
    "cm\n"
   ]
  },
  {
   "cell_type": "markdown",
   "id": "a0562d4e",
   "metadata": {},
   "source": [
    "\n",
    "## 5) Guardar resultados\n",
    "\n",
    "Se exporta un CSV con las columnas clave para auditoría.\n"
   ]
  },
  {
   "cell_type": "code",
   "execution_count": 16,
   "id": "af6c6c56",
   "metadata": {},
   "outputs": [
    {
     "name": "stdout",
     "output_type": "stream",
     "text": [
      "Resultados guardados en: C:\\Users\\loloa\\Documents\\UNIR_LAB\\TFM\\produccion\\TFM\\resultados_clasificacion.csv\n"
     ]
    }
   ],
   "source": [
    "\n",
    "out_path = Path(\"resultados_clasificacion.csv\")\n",
    "df.to_csv(out_path, index=False)\n",
    "print(\"Resultados guardados en:\", out_path.resolve())\n"
   ]
  },
  {
   "cell_type": "code",
   "execution_count": null,
   "id": "eaa84484-8261-4532-8d02-8a6915b6d39c",
   "metadata": {},
   "outputs": [],
   "source": []
  }
 ],
 "metadata": {
  "kernelspec": {
   "display_name": "Python 3 (ipykernel)",
   "language": "python",
   "name": "python3"
  },
  "language_info": {
   "codemirror_mode": {
    "name": "ipython",
    "version": 3
   },
   "file_extension": ".py",
   "mimetype": "text/x-python",
   "name": "python",
   "nbconvert_exporter": "python",
   "pygments_lexer": "ipython3",
   "version": "3.10.18"
  }
 },
 "nbformat": 4,
 "nbformat_minor": 5
}
