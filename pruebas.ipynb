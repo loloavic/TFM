{
 "cells": [
  {
   "cell_type": "code",
   "execution_count": 1,
   "id": "1fd83ed0-ee22-4231-b8a6-6ca9892c6e9e",
   "metadata": {},
   "outputs": [],
   "source": [
    "# ejemplo de llamada a n8n (en tu orquestador o prueba)\n",
    "import requests, json\n",
    "\n",
    "def post_to_n8n(webhook_url: str, plan_json: str, actions: list):\n",
    "    payload = {\"plan\": json.loads(plan_json), \"actions\": actions}\n",
    "    r = requests.post(webhook_url, json=payload, timeout=30)\n",
    "    r.raise_for_status()\n",
    "    return r.json()\n"
   ]
  },
  {
   "cell_type": "code",
   "execution_count": null,
   "id": "8133e02a-b8b4-4ff3-b6c4-5b345ea1b782",
   "metadata": {},
   "outputs": [],
   "source": []
  }
 ],
 "metadata": {
  "kernelspec": {
   "display_name": "Python 3 (ipykernel)",
   "language": "python",
   "name": "python3"
  },
  "language_info": {
   "codemirror_mode": {
    "name": "ipython",
    "version": 3
   },
   "file_extension": ".py",
   "mimetype": "text/x-python",
   "name": "python",
   "nbconvert_exporter": "python",
   "pygments_lexer": "ipython3",
   "version": "3.10.18"
  }
 },
 "nbformat": 4,
 "nbformat_minor": 5
}
